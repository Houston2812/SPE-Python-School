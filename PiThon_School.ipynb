{
  "nbformat": 4,
  "nbformat_minor": 0,
  "metadata": {
    "colab": {
      "provenance": []
    },
    "kernelspec": {
      "name": "python3",
      "display_name": "Python 3"
    },
    "language_info": {
      "name": "python"
    }
  },
  "cells": [
    {
      "cell_type": "markdown",
      "source": [
        "# Working with the variable lenght arguments"
      ],
      "metadata": {
        "id": "01vq8x8btNJl"
      }
    },
    {
      "cell_type": "code",
      "source": [
        "y = 4\n",
        "\n",
        "def func(x = y):\n",
        "  print(x)\n",
        "\n",
        "func()\n",
        "\n",
        "y = 8\n",
        "\n",
        "def func1(x = y):\n",
        "  print(x)\n",
        "\n",
        "func()\n",
        "func1()\n"
      ],
      "metadata": {
        "colab": {
          "base_uri": "https://localhost:8080/"
        },
        "id": "RIMv7Dxg4aVZ",
        "outputId": "85605fb6-0fba-441b-dd9e-38b9808f8215"
      },
      "execution_count": null,
      "outputs": [
        {
          "output_type": "stream",
          "name": "stdout",
          "text": [
            "4\n",
            "4\n",
            "8\n"
          ]
        }
      ]
    },
    {
      "cell_type": "markdown",
      "source": [
        "## Passing arguments to the function with the help of asterics (*)"
      ],
      "metadata": {
        "id": "Z2s7g41VupDi"
      }
    },
    {
      "cell_type": "markdown",
      "source": [
        "\n",
        "function 5 dene argument qebul edir\n",
        "\n",
        "function(arg1 = 1, arg2 = 2, arg3 = 3, arg4= 4, arg5 =5 )\n",
        "\n",
        "list = [1, 2, 3, 4, 5]\n",
        "\n"
      ],
      "metadata": {
        "id": "XRB43urs5VX_"
      }
    },
    {
      "cell_type": "code",
      "source": [
        "# args\n",
        "\n",
        "def function(arg1, arg2, arg3, arg4, arg5 = 0):\n",
        "  print(arg1, arg2, arg3, arg4, arg5)\n",
        "\n",
        "function(arg1 = 1, arg2 = 2, arg3 = 3, arg4= 4, arg5 =5 )\n",
        "\n",
        "mylist = [1, 2, 3,  5]\n",
        "# 1 - arg1\n",
        "# 2 - arg2 \n",
        "# 3 - arg3 \n",
        "# etc\n",
        "\n",
        "function(*mylist)\n",
        "\n",
        "# kwarg - keyword arguments\n",
        "\n",
        "mydict = {\n",
        "    'arg1' : 1,\n",
        "    \"arg2\" : 2,\n",
        "    \"arg3\" : 3,\n",
        "    \"arg4\" : 4,\n",
        "    \"arg5\" : 5\n",
        "}\n",
        "\n",
        "function(**mydict)\n",
        "\n",
        "\n"
      ],
      "metadata": {
        "colab": {
          "base_uri": "https://localhost:8080/"
        },
        "id": "sWm3koFv5luf",
        "outputId": "48a78cae-0ffb-4771-c48d-5376f382c908"
      },
      "execution_count": null,
      "outputs": [
        {
          "output_type": "stream",
          "name": "stdout",
          "text": [
            "1 2 3 4 5\n",
            "1 2 3 5 0\n",
            "1 2 3 4 5\n"
          ]
        }
      ]
    },
    {
      "cell_type": "code",
      "source": [
        "def func(x, y, arg1 = 0, arg2 = 1):\n",
        "  print(f\"Args: {x}; {y}\")\n",
        "  print(f\"Kwargs: {arg1}; {arg2}\")\n",
        "\n",
        "\n",
        "values_tuple = (1, 2) # holds x and y\n",
        "values_dict = {\n",
        "    \"arg1\": 3,\n",
        "    \"arg2\": 4\n",
        "}\n",
        "\n",
        "print(\"Common way to pass arguments:\")\n",
        "func(values_tuple[0], values_tuple[1], values_dict['arg1'], values_dict['arg2'])\n",
        "\n",
        "print()\n",
        "print(\"Pass arguments with args and kwargs:\")\n",
        "func(*values_tuple, **values_dict)\n"
      ],
      "metadata": {
        "colab": {
          "base_uri": "https://localhost:8080/"
        },
        "id": "LAJ0d5oDtf-B",
        "outputId": "938865d9-a0fa-4d6e-c5ba-f6638f414df3"
      },
      "execution_count": null,
      "outputs": [
        {
          "output_type": "stream",
          "name": "stdout",
          "text": [
            "Common way to pass arguments:\n",
            "Args: 1; 2\n",
            "Kwargs: 3; 4\n",
            "\n",
            "Pass arguments with args and kwargs:\n",
            "Args: 1; 2\n",
            "Kwargs: 3; 4\n"
          ]
        }
      ]
    },
    {
      "cell_type": "markdown",
      "source": [
        "## Declaration of functions with \\*args and **kwargs"
      ],
      "metadata": {
        "id": "DzkE7MAKu0Ei"
      }
    },
    {
      "cell_type": "code",
      "source": [
        "def func(*args, **kwargs):\n",
        "  # 1 2 3 4 5 \n",
        "  # 1 2 3\n",
        "  # 1 2 \n",
        "  print(f\"Positional arguments: {args}\")\n",
        "  print(f\"Keyword arguments: {kwargs}\")\n",
        "\n",
        "func(1, 2, 3, val1 = 4, val2 = 5, val3 = 6)\n",
        "\n",
        "mylist = [1,2,3,4]\n",
        "mydict = {\n",
        "    \"1\": 1,\n",
        "    \"2\": 2,\n",
        "    \"3\": 3\n",
        "}\n",
        "\n",
        "func(*mylist, **mydict)"
      ],
      "metadata": {
        "colab": {
          "base_uri": "https://localhost:8080/"
        },
        "id": "d4uxifvSvkXV",
        "outputId": "d44f45d9-a2ab-4b56-c61c-7613bfc3ec5a"
      },
      "execution_count": null,
      "outputs": [
        {
          "output_type": "stream",
          "name": "stdout",
          "text": [
            "Positional arguments: (1, 2, 3)\n",
            "Keyword arguments: {'val1': 4, 'val2': 5, 'val3': 6}\n",
            "Positional arguments: (1, 2, 3, 4)\n",
            "Keyword arguments: {'1': 1, '2': 2, '3': 3}\n"
          ]
        }
      ]
    },
    {
      "cell_type": "markdown",
      "source": [
        "## Big combination"
      ],
      "metadata": {
        "id": "okL896q_wIYQ"
      }
    },
    {
      "cell_type": "code",
      "source": [
        "def func(pos1, pos2, *args, key1 ='this', **kwargs):\n",
        "  print(pos1, pos2, args, key1, kwargs)\n",
        "\n",
        "func(1, 2, 3, 4, 5, key1 = \"This is first key\", key2 = \"Second key\", arbitrary_key = \"arbitrary key\")"
      ],
      "metadata": {
        "colab": {
          "base_uri": "https://localhost:8080/"
        },
        "id": "OFikKxZXwLQZ",
        "outputId": "6bc42b4f-bd55-46f2-b6e3-21a6b21bae38"
      },
      "execution_count": null,
      "outputs": [
        {
          "output_type": "stream",
          "name": "stdout",
          "text": [
            "1 2 (3, 4, 5) This is first key {'key2': 'Second key', 'arbitrary_key': 'arbitrary key'}\n"
          ]
        }
      ]
    },
    {
      "cell_type": "markdown",
      "source": [
        "# Side effects\n"
      ],
      "metadata": {
        "id": "f_WD1nGas7e2"
      }
    },
    {
      "cell_type": "code",
      "source": [
        "def print_x(x):\n",
        "  print(\"Within the function\")\n",
        "  print(id(x))\n",
        "  print(x)\n",
        "\n",
        "x = 4\n",
        "\n",
        "print(\"Before the call\")\n",
        "print(id(x))\n",
        "\n",
        "print_x(x)\n",
        "\n",
        "print(\"After the call\")\n",
        "print(id(x))\n"
      ],
      "metadata": {
        "colab": {
          "base_uri": "https://localhost:8080/"
        },
        "id": "U85y8P139_Ct",
        "outputId": "70c14425-ecc4-4adc-b630-224381b8906d"
      },
      "execution_count": null,
      "outputs": [
        {
          "output_type": "stream",
          "name": "stdout",
          "text": [
            "Before the call\n",
            "11126784\n",
            "Within the function\n",
            "11126784\n",
            "4\n",
            "After the call\n",
            "11126784\n"
          ]
        }
      ]
    },
    {
      "cell_type": "code",
      "source": [
        "def print_x(x):\n",
        "  print(\"Within the function\")\n",
        "\n",
        "  x = x + 1\n",
        "  \n",
        "  print(id(x))\n",
        "\n",
        "  print(x)\n",
        "\n",
        "x = 4\n",
        "\n",
        "print(\"Before the call\")\n",
        "print(id(x))\n",
        "\n",
        "print_x(x)\n",
        "\n",
        "print(\"After the call\")\n",
        "print(id(x))\n"
      ],
      "metadata": {
        "colab": {
          "base_uri": "https://localhost:8080/"
        },
        "id": "h5JJvHkY-dlv",
        "outputId": "33e93376-18d4-42a5-84fe-1f78036396c6"
      },
      "execution_count": null,
      "outputs": [
        {
          "output_type": "stream",
          "name": "stdout",
          "text": [
            "Before the call\n",
            "11126784\n",
            "Within the function\n",
            "11126816\n",
            "5\n",
            "After the call\n",
            "11126784\n"
          ]
        }
      ]
    },
    {
      "cell_type": "markdown",
      "source": [
        "## In this example we are going to view what do we consider by side effects of functions"
      ],
      "metadata": {
        "id": "lWaAd_AijP0p"
      }
    },
    {
      "cell_type": "markdown",
      "source": [
        "### Updating a list with the assignment of the result to the new list"
      ],
      "metadata": {
        "id": "TjYqKwFVjNHJ"
      }
    },
    {
      "cell_type": "code",
      "execution_count": null,
      "metadata": {
        "colab": {
          "base_uri": "https://localhost:8080/"
        },
        "id": "D2QkG4_ajJsW",
        "outputId": "20ee50b1-b29b-4a99-cfb8-04509a1dba18"
      },
      "outputs": [
        {
          "output_type": "stream",
          "name": "stdout",
          "text": [
            "['London', 'Leeds', 'Glasgow', 'Sheffield']\n",
            "['London', 'Leeds', 'Glasgow', 'Sheffield', 'Birmingham', 'Bradford']\n",
            "['London', 'Leeds', 'Glasgow', 'Sheffield']\n"
          ]
        }
      ],
      "source": [
        "\n",
        "def no_side_effects(cities):\n",
        "    print(cities)\n",
        "    cities = cities + [\"Birmingham\", \"Bradford\"]\n",
        "    print(cities)\n",
        "\n",
        "locations = [\"London\", \"Leeds\", \"Glasgow\", \"Sheffield\"]\n",
        "no_side_effects(locations)\n",
        "print(locations)\n"
      ]
    },
    {
      "cell_type": "markdown",
      "source": [
        "### Create a list with the augmented assignment operator"
      ],
      "metadata": {
        "id": "uRFoc0ERjNCZ"
      }
    },
    {
      "cell_type": "markdown",
      "source": [
        "when u have an array\n",
        "\n",
        "get_lenght(array):\n",
        "\n",
        "get_lenght(*array):\n"
      ],
      "metadata": {
        "id": "TL7iQJkoAfgv"
      }
    },
    {
      "cell_type": "code",
      "source": [],
      "metadata": {
        "id": "a3cw8uFVAfMZ"
      },
      "execution_count": null,
      "outputs": []
    },
    {
      "cell_type": "markdown",
      "source": [
        "# list in our main part of the function\n",
        "# list -> function -> python sendds reference to the list to the function \n",
        "# based on operation:\n",
        "  * the list outisde either is modified\n",
        "\n",
        "# list = list + other_list - in this way initial list is not affected\n",
        "# += "
      ],
      "metadata": {
        "id": "Bn98Z7Mn_fOF"
      }
    },
    {
      "cell_type": "code",
      "source": [
        "def side_effects(cities):\n",
        "    print(cities)\n",
        "    # cities = cities + [\"Birmingham\", \"Bradford\"]\n",
        "    cities += [\"Birmingham\", \"Bradford\"]\n",
        "    print(cities)\n",
        " \n",
        "locations = [\"London\", \"Leeds\", \"Glasgow\", \"Sheffield\"]\n",
        "\n",
        "side_effects(locations)\n",
        "\n",
        "print(locations)\n"
      ],
      "metadata": {
        "colab": {
          "base_uri": "https://localhost:8080/"
        },
        "id": "9nu4sD0_r_Qq",
        "outputId": "05ca4e36-24d0-4103-c881-a3983b768733"
      },
      "execution_count": null,
      "outputs": [
        {
          "output_type": "stream",
          "name": "stdout",
          "text": [
            "['London', 'Leeds', 'Glasgow', 'Sheffield']\n",
            "['London', 'Leeds', 'Glasgow', 'Sheffield', 'Birmingham', 'Bradford']\n",
            "['London', 'Leeds', 'Glasgow', 'Sheffield', 'Birmingham', 'Bradford']\n"
          ]
        }
      ]
    },
    {
      "cell_type": "markdown",
      "source": [
        "### In the example above it is possible to prevent the observed situation by passing the copy of the list to the function"
      ],
      "metadata": {
        "id": "HQJ2Y13psSat"
      }
    },
    {
      "cell_type": "code",
      "source": [
        "def side_effects(cities):\n",
        "    print(cities)\n",
        "    cities += [\"Paris\", \"Marseille\"]\n",
        "    print(cities)\n",
        " \n",
        "locations = [\"Lyon\", \"Toulouse\", \"Nice\", \"Nantes\", \"Strasbourg\"]\n",
        "\n",
        "# : - passes a local copy of array to the function \n",
        "# list \n",
        "side_effects(locations[:])\n",
        "print(locations) "
      ],
      "metadata": {
        "colab": {
          "base_uri": "https://localhost:8080/"
        },
        "id": "UkgnWswJsamt",
        "outputId": "cf960944-b0fc-4c4f-e53f-5b08df0336f6"
      },
      "execution_count": null,
      "outputs": [
        {
          "output_type": "stream",
          "name": "stdout",
          "text": [
            "['Lyon', 'Toulouse', 'Nice', 'Nantes', 'Strasbourg']\n",
            "['Lyon', 'Toulouse', 'Nice', 'Nantes', 'Strasbourg', 'Paris', 'Marseille']\n",
            "['Lyon', 'Toulouse', 'Nice', 'Nantes', 'Strasbourg']\n"
          ]
        }
      ]
    },
    {
      "cell_type": "code",
      "source": [
        "# shallow copy - copies only the first layer of object \n",
        "# deep copy  - copies the entire object\n",
        "\n",
        "def side_effects(cities):\n",
        "    print(cities)\n",
        "    cities[0] += [\"Paris\", \"Marseille\"]\n",
        "    print(cities)\n",
        " \n",
        "locations = [\n",
        "    [\"Lyon\", \"Toulouse\", \"Nice\", \"Nantes\", \"Strasbourg\"]\n",
        "    ]\n",
        "\n",
        "# locations[:] - creates shallow copy of the object\n",
        "[\n",
        "    [1, 2, 3],\n",
        "    [3, 4, 5]\n",
        "]\n",
        "\n",
        "side_effects(locations[:])\n",
        "print(locations) "
      ],
      "metadata": {
        "colab": {
          "base_uri": "https://localhost:8080/"
        },
        "id": "A84ZoZc32jUP",
        "outputId": "19b17bb9-51ba-47e9-8bf7-d93786a0b0e3"
      },
      "execution_count": null,
      "outputs": [
        {
          "output_type": "stream",
          "name": "stdout",
          "text": [
            "[['Lyon', 'Toulouse', 'Nice', 'Nantes', 'Strasbourg']]\n",
            "[['Lyon', 'Toulouse', 'Nice', 'Nantes', 'Strasbourg', 'Paris', 'Marseille']]\n",
            "[['Lyon', 'Toulouse', 'Nice', 'Nantes', 'Strasbourg', 'Paris', 'Marseille']]\n"
          ]
        }
      ]
    },
    {
      "cell_type": "code",
      "source": [
        "from copy import deepcopy\n",
        "def side_effects(cities):\n",
        "    print(cities)\n",
        "    cities[0] += [\"Paris\", \"Marseille\"]\n",
        "    print(cities)\n",
        " \n",
        "locations = [[\"Lyon\", \"Toulouse\", \"Nice\", \"Nantes\", \"Strasbourg\"]]\n",
        "\n",
        "\n",
        "# created using deepcopy - deepcopy(locations)\n",
        "side_effects(deepcopy(locations))\n",
        "print(locations) "
      ],
      "metadata": {
        "colab": {
          "base_uri": "https://localhost:8080/"
        },
        "id": "AT7HnUd62nXo",
        "outputId": "da3bbeaf-dbe0-429b-8bb1-e15a8fd7b11f"
      },
      "execution_count": null,
      "outputs": [
        {
          "output_type": "stream",
          "name": "stdout",
          "text": [
            "[['Lyon', 'Toulouse', 'Nice', 'Nantes', 'Strasbourg']]\n",
            "[['Lyon', 'Toulouse', 'Nice', 'Nantes', 'Strasbourg', 'Paris', 'Marseille']]\n",
            "[['Lyon', 'Toulouse', 'Nice', 'Nantes', 'Strasbourg']]\n"
          ]
        }
      ]
    },
    {
      "cell_type": "markdown",
      "source": [
        "# Higher Order Functions"
      ],
      "metadata": {
        "id": "a59yw8Qd-WeF"
      }
    },
    {
      "cell_type": "markdown",
      "source": [
        "## Usage of filter function"
      ],
      "metadata": {
        "id": "vJrvTjB4CkxJ"
      }
    },
    {
      "cell_type": "code",
      "source": [
        "def is_even(x):\n",
        "    return x%2 == 0\n",
        "\n",
        "print(list(filter(is_even, range(5))))"
      ],
      "metadata": {
        "colab": {
          "base_uri": "https://localhost:8080/"
        },
        "id": "Cj5gNJpb-aFj",
        "outputId": "d7998989-5553-4045-c82b-7548aed024ad"
      },
      "execution_count": null,
      "outputs": [
        {
          "output_type": "stream",
          "name": "stdout",
          "text": [
            "[0, 2, 4]\n"
          ]
        }
      ]
    },
    {
      "cell_type": "markdown",
      "source": [
        "## Usage of map function"
      ],
      "metadata": {
        "id": "U7LM-5PSCsZN"
      }
    },
    {
      "cell_type": "code",
      "source": [
        "def square(x):\n",
        "  return x ** 2\n",
        "\n",
        "\n",
        "print(list(map(square, range(5))))"
      ],
      "metadata": {
        "colab": {
          "base_uri": "https://localhost:8080/"
        },
        "id": "kvu6Je2H_EPE",
        "outputId": "22d6a960-e36a-44f0-879c-2f421b391fcc"
      },
      "execution_count": null,
      "outputs": [
        {
          "output_type": "stream",
          "name": "stdout",
          "text": [
            "[0, 1, 4, 9, 16]\n"
          ]
        }
      ]
    },
    {
      "cell_type": "markdown",
      "source": [
        "## Custom function "
      ],
      "metadata": {
        "id": "I8gOmTI9CiMf"
      }
    },
    {
      "cell_type": "code",
      "source": [
        "def square(x):\n",
        "  return x ** 2\n",
        "\n",
        "def cube(x):\n",
        "  return x ** 3\n",
        "  \n",
        "# lambda funcitons are passed usually\n",
        "def custom_sum(values, function):\n",
        "    # 20 + 10 = 30\n",
        "    print(tuple(map(function, values)))\n",
        "    return sum(map(function, values))\n",
        "\n",
        "values = range(5)\n",
        "print(custom_sum(values, square))\n",
        "print(custom_sum(values, cube))"
      ],
      "metadata": {
        "colab": {
          "base_uri": "https://localhost:8080/"
        },
        "id": "izho69HiAVzt",
        "outputId": "0877d1e4-7002-4127-e070-e65202393377"
      },
      "execution_count": null,
      "outputs": [
        {
          "output_type": "stream",
          "name": "stdout",
          "text": [
            "(0, 1, 4, 9, 16)\n",
            "30\n",
            "(0, 1, 8, 27, 64)\n",
            "100\n"
          ]
        }
      ]
    },
    {
      "cell_type": "markdown",
      "source": [
        "## Returning a function"
      ],
      "metadata": {
        "id": "qNDe4P2MCvjR"
      }
    },
    {
      "cell_type": "code",
      "source": [
        "def by_factor(factor):\n",
        "  \n",
        "  def multiply(number):\n",
        "    return number * factor\n",
        "  \n",
        "  return multiply\n",
        "\n",
        "def get_by_factor(factor, number):\n",
        "    return factor * number\n",
        "  \n",
        "# print(get_by_factor(2, 10))\n",
        "\n",
        "double = by_factor(2)\n",
        "# value of double is currently a function \n",
        "\n",
        "print(\"Double examples:\")\n",
        "print(f\"\\t2 * 2 = {double(2)}\")\n",
        "print(f\"\\t3 * 2 = {double(3)}\")\n",
        "\n",
        "triple = by_factor(3)\n",
        "print(\"Triple examples:\")\n",
        "print(f\"\\t2 * 3 = {triple(2)}\")\n",
        "print(f\"\\t3 * 3 = {triple(3)}\")\n",
        "\n"
      ],
      "metadata": {
        "colab": {
          "base_uri": "https://localhost:8080/"
        },
        "id": "5-jfK0KHDkK-",
        "outputId": "34a57966-4a44-442f-f594-d98b46fea286"
      },
      "execution_count": null,
      "outputs": [
        {
          "output_type": "stream",
          "name": "stdout",
          "text": [
            "Double examples:\n",
            "\t2 * 2 = 4\n",
            "\t3 * 2 = 6\n",
            "Triple examples:\n",
            "\t2 * 3 = 6\n",
            "\t3 * 3 = 9\n"
          ]
        }
      ]
    },
    {
      "cell_type": "code",
      "source": [
        "def make_logger(target):\n",
        "    print(\"Filename: \" + target)\n",
        "\n",
        "    def logger(data):\n",
        "        print(f\"Writing - {data}\")\n",
        "        with open(target, 'a') as f:\n",
        "            f.write(data + '\\n')\n",
        "\n",
        "    return logger\n",
        "\n",
        "\n",
        "foo_logger = make_logger('foo.txt')\n",
        "foo_logger('Hello')\n",
        "foo_logger('World')"
      ],
      "metadata": {
        "id": "I1zqiE16CzCN",
        "colab": {
          "base_uri": "https://localhost:8080/"
        },
        "outputId": "7be75a07-b174-4f48-c145-e71d5bc704c0"
      },
      "execution_count": null,
      "outputs": [
        {
          "output_type": "stream",
          "name": "stdout",
          "text": [
            "Filename: foo.txt\n",
            "Writing - Hello\n",
            "Writing - World\n"
          ]
        }
      ]
    },
    {
      "cell_type": "markdown",
      "source": [
        "# Lambda functions"
      ],
      "metadata": {
        "id": "3esuNXjfKJTi"
      }
    },
    {
      "cell_type": "code",
      "source": [
        "def compose1 (f, g):\n",
        "\t# get the result of g(x)\n",
        "\t# pass the result of g(x) to f(x)\n",
        "\t# return the result of f(x)\n",
        "\treturn lambda x: f(g(x))\n",
        "\n",
        "# lambda_func = lambda x: x * x \n",
        "square = lambda x: x * x\n",
        "\n",
        "print(\"Simple lambda function:\")\n",
        "print(square)\n",
        "print(square(12))\n",
        "\n",
        "print(\"Higher order function used with lambda functons\")\n",
        "# 2 fumctions\n",
        "# 1 function - f(x) = return square of x \n",
        "# 2 function = g(x) = inreases x by 1\n",
        "\n",
        "f = compose1 ( lambda x: x * x, lambda x: x + 1)\n",
        "\n",
        "# we pass 12 to the function\n",
        "# first g(x) executes -> g(12) = 12 + 1  = 13\n",
        "# second f(x) executes -> f(x) -> f(g(X)) = f(13) = 13 * 13 = 169\n",
        "\n",
        "result = f(12)\n",
        "print(f\"Evaluates to f(g(x+1)) where x = {12} => {result}\")"
      ],
      "metadata": {
        "colab": {
          "base_uri": "https://localhost:8080/"
        },
        "id": "ADLVVgnwKOmK",
        "outputId": "2360b53b-f7d8-43c6-e7d3-64dfe1df14e9"
      },
      "execution_count": null,
      "outputs": [
        {
          "output_type": "stream",
          "name": "stdout",
          "text": [
            "Simple lambda function:\n",
            "<function <lambda> at 0x7ff95cde5dd0>\n",
            "144\n",
            "Higher order function used with lambda functons\n",
            "Evaluates to f(g(x+1)) where x = 12 => 169\n"
          ]
        }
      ]
    },
    {
      "cell_type": "markdown",
      "source": [
        "# Tasks"
      ],
      "metadata": {
        "id": "btbQIrqBMXjy"
      }
    },
    {
      "cell_type": "markdown",
      "source": [
        "## Args/kwargs"
      ],
      "metadata": {
        "id": "Aj74BXWONFIp"
      }
    },
    {
      "cell_type": "markdown",
      "source": [
        ":* Write a function that has four optional parameters (with defaults):\n",
        "  *   fore_color\n",
        "  *   back_color\n",
        "  *   link_color\n",
        "  *   visited_color\n",
        "\n",
        "* It should print each variable and its values in the following format:\n",
        "    * fore_color - \\<value\\>\n",
        "    * back_color - \\<value\\>\n",
        "    * link_color - \\<value\\>\n",
        "    * visited_color - \\<value\\>\n",
        "\n",
        "* Call the function using different ways:\n",
        "\n",
        "  * Using just positional arguments:\n",
        "\n",
        "    * func('red', 'blue', 'yellow', 'chartreuse')\n",
        "\n",
        "  * Using just keyword arguments:\n",
        "\n",
        "    * func(link_color='red', back_color='blue')\n",
        "\n",
        "  * using *args and/or **kwargs\n",
        "\n",
        "    * regular = ('red', 'blue')\n",
        "\n",
        "    * links = {'link_color': 'chartreuse'}\n"
      ],
      "metadata": {
        "id": "jlFN4CZNMcDs"
      }
    },
    {
      "cell_type": "markdown",
      "source": [
        "## Lambda\n"
      ],
      "metadata": {
        "id": "_s8iIYwFTNHD"
      }
    },
    {
      "cell_type": "markdown",
      "source": [
        "Write and demonstrate a Lambda function named stg() that appends .txt\n",
        "to its argument. What happens when you call the function with an integer?"
      ],
      "metadata": {
        "id": "BI5xmd6ITO0-"
      }
    },
    {
      "cell_type": "markdown",
      "source": [
        "## Function analysis"
      ],
      "metadata": {
        "id": "jqJYTBpbU-o1"
      }
    },
    {
      "cell_type": "markdown",
      "source": [
        "Assume that s1 = \"Hi\" and s2 = \"ya\". In the function call model_two(s1 + s2):\n",
        "* What is the argument for the function call?\n",
        "* Write the implied assignment statement that happens during the call. - to what s1 and s2 gets assigned in the function call\n",
        "* What will be the value of parameter word when model_two begins executing?\n",
        "* Predict the output that will be produced by the function call"
      ],
      "metadata": {
        "id": "ZO-KcoTXVIaA"
      }
    },
    {
      "cell_type": "code",
      "source": [
        "def model_two(word):\n",
        "  ans = word * len(word)\n",
        "  print(ans)\n",
        "  \n",
        "def main():\n",
        "  print(\"Starting main...\")\n",
        "  w = input(\"Enter a word: \")\n",
        "  model_two(w)\n",
        "  print(\"All done!\")\n",
        "\n",
        "main()"
      ],
      "metadata": {
        "id": "ajUKw_8AVCBB"
      },
      "execution_count": null,
      "outputs": []
    },
    {
      "cell_type": "markdown",
      "source": [
        "## Side effects of functions in Python"
      ],
      "metadata": {
        "id": "XfWovXH4WFTt"
      }
    },
    {
      "cell_type": "markdown",
      "source": [
        "Perform a research and submit a code that will show the side effects of functions in Python"
      ],
      "metadata": {
        "id": "e86iiuAgWQ5d"
      }
    }
  ]
}